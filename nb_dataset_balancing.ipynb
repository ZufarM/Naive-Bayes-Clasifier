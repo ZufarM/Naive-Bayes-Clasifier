{
 "cells": [
  {
   "cell_type": "code",
   "execution_count": 1,
   "id": "a641a1a9-643e-4c0a-a979-ebf77e72a67b",
   "metadata": {},
   "outputs": [],
   "source": [
    "import numpy as np\n",
    "import pandas as pd \n",
    "import matplotlib.pyplot as plt\n",
    "import seaborn as sns"
   ]
  },
  {
   "cell_type": "code",
   "execution_count": 2,
   "id": "1b345b4c-67fc-4b13-b0ea-33a73b8a9837",
   "metadata": {},
   "outputs": [
    {
     "data": {
      "text/html": [
       "<div>\n",
       "<style scoped>\n",
       "    .dataframe tbody tr th:only-of-type {\n",
       "        vertical-align: middle;\n",
       "    }\n",
       "\n",
       "    .dataframe tbody tr th {\n",
       "        vertical-align: top;\n",
       "    }\n",
       "\n",
       "    .dataframe thead th {\n",
       "        text-align: right;\n",
       "    }\n",
       "</style>\n",
       "<table border=\"1\" class=\"dataframe\">\n",
       "  <thead>\n",
       "    <tr style=\"text-align: right;\">\n",
       "      <th></th>\n",
       "      <th>Unnamed: 0</th>\n",
       "      <th>no</th>\n",
       "      <th>judul</th>\n",
       "      <th>judul_tokens</th>\n",
       "      <th>judul_tokens_fdist</th>\n",
       "      <th>judul_tokens_WSW</th>\n",
       "      <th>judul_tokens_stemmed</th>\n",
       "    </tr>\n",
       "  </thead>\n",
       "  <tbody>\n",
       "    <tr>\n",
       "      <th>0</th>\n",
       "      <td>0</td>\n",
       "      <td>3</td>\n",
       "      <td>usaha kerajinan gerabah untuk meningkatakan pe...</td>\n",
       "      <td>['usaha', 'kerajinan', 'gerabah', 'untuk', 'me...</td>\n",
       "      <td>&lt;FreqDist with 19 samples and 19 outcomes&gt;</td>\n",
       "      <td>['usaha', 'kerajinan', 'gerabah', 'meningkatak...</td>\n",
       "      <td>['usaha', 'rajin', 'gerabah', 'meningkatakan',...</td>\n",
       "    </tr>\n",
       "    <tr>\n",
       "      <th>1</th>\n",
       "      <td>1</td>\n",
       "      <td>3</td>\n",
       "      <td>peranan industri gerabah keramik sebagai suatu...</td>\n",
       "      <td>['peranan', 'industri', 'gerabah', 'keramik', ...</td>\n",
       "      <td>&lt;FreqDist with 18 samples and 18 outcomes&gt;</td>\n",
       "      <td>['peranan', 'industri', 'gerabah', 'keramik', ...</td>\n",
       "      <td>['peran', 'industri', 'gerabah', 'keramik', 's...</td>\n",
       "    </tr>\n",
       "    <tr>\n",
       "      <th>2</th>\n",
       "      <td>2</td>\n",
       "      <td>3</td>\n",
       "      <td>industri kerajinan gerabah dan peranannya seba...</td>\n",
       "      <td>['industri', 'kerajinan', 'gerabah', 'dan', 'p...</td>\n",
       "      <td>&lt;FreqDist with 17 samples and 17 outcomes&gt;</td>\n",
       "      <td>['industri', 'kerajinan', 'gerabah', 'peranann...</td>\n",
       "      <td>['industri', 'rajin', 'gerabah', 'peran', 'sum...</td>\n",
       "    </tr>\n",
       "    <tr>\n",
       "      <th>3</th>\n",
       "      <td>3</td>\n",
       "      <td>3</td>\n",
       "      <td>peranan industri kecil warangka keris dalam me...</td>\n",
       "      <td>['peranan', 'industri', 'kecil', 'warangka', '...</td>\n",
       "      <td>&lt;FreqDist with 9 samples and 9 outcomes&gt;</td>\n",
       "      <td>['peranan', 'industri', 'warangka', 'keris', '...</td>\n",
       "      <td>['peran', 'industri', 'warangka', 'keris', 'ti...</td>\n",
       "    </tr>\n",
       "    <tr>\n",
       "      <th>4</th>\n",
       "      <td>4</td>\n",
       "      <td>3</td>\n",
       "      <td>bimbingan agama islam terhadap remaja dalam ke...</td>\n",
       "      <td>['bimbingan', 'agama', 'islam', 'terhadap', 'r...</td>\n",
       "      <td>&lt;FreqDist with 14 samples and 14 outcomes&gt;</td>\n",
       "      <td>['bimbingan', 'agama', 'islam', 'remaja', 'kel...</td>\n",
       "      <td>['bimbing', 'agama', 'islam', 'remaja', 'kelua...</td>\n",
       "    </tr>\n",
       "  </tbody>\n",
       "</table>\n",
       "</div>"
      ],
      "text/plain": [
       "   Unnamed: 0  no                                              judul  \\\n",
       "0           0   3  usaha kerajinan gerabah untuk meningkatakan pe...   \n",
       "1           1   3  peranan industri gerabah keramik sebagai suatu...   \n",
       "2           2   3  industri kerajinan gerabah dan peranannya seba...   \n",
       "3           3   3  peranan industri kecil warangka keris dalam me...   \n",
       "4           4   3  bimbingan agama islam terhadap remaja dalam ke...   \n",
       "\n",
       "                                        judul_tokens  \\\n",
       "0  ['usaha', 'kerajinan', 'gerabah', 'untuk', 'me...   \n",
       "1  ['peranan', 'industri', 'gerabah', 'keramik', ...   \n",
       "2  ['industri', 'kerajinan', 'gerabah', 'dan', 'p...   \n",
       "3  ['peranan', 'industri', 'kecil', 'warangka', '...   \n",
       "4  ['bimbingan', 'agama', 'islam', 'terhadap', 'r...   \n",
       "\n",
       "                           judul_tokens_fdist  \\\n",
       "0  <FreqDist with 19 samples and 19 outcomes>   \n",
       "1  <FreqDist with 18 samples and 18 outcomes>   \n",
       "2  <FreqDist with 17 samples and 17 outcomes>   \n",
       "3    <FreqDist with 9 samples and 9 outcomes>   \n",
       "4  <FreqDist with 14 samples and 14 outcomes>   \n",
       "\n",
       "                                    judul_tokens_WSW  \\\n",
       "0  ['usaha', 'kerajinan', 'gerabah', 'meningkatak...   \n",
       "1  ['peranan', 'industri', 'gerabah', 'keramik', ...   \n",
       "2  ['industri', 'kerajinan', 'gerabah', 'peranann...   \n",
       "3  ['peranan', 'industri', 'warangka', 'keris', '...   \n",
       "4  ['bimbingan', 'agama', 'islam', 'remaja', 'kel...   \n",
       "\n",
       "                                judul_tokens_stemmed  \n",
       "0  ['usaha', 'rajin', 'gerabah', 'meningkatakan',...  \n",
       "1  ['peran', 'industri', 'gerabah', 'keramik', 's...  \n",
       "2  ['industri', 'rajin', 'gerabah', 'peran', 'sum...  \n",
       "3  ['peran', 'industri', 'warangka', 'keris', 'ti...  \n",
       "4  ['bimbing', 'agama', 'islam', 'remaja', 'kelua...  "
      ]
     },
     "execution_count": 2,
     "metadata": {},
     "output_type": "execute_result"
    }
   ],
   "source": [
    "df_sentimen = pd.read_csv('data/Text_Preprocessing.csv')\n",
    "df_sentimen.head()"
   ]
  },
  {
   "cell_type": "code",
   "execution_count": 3,
   "id": "f354938f-03cf-42d5-8987-9a019f80f766",
   "metadata": {},
   "outputs": [
    {
     "name": "stdout",
     "output_type": "stream",
     "text": [
      "\n",
      "Jumlah Judul Buku : \n",
      "0        ['usaha', 'rajin', 'gerabah', 'meningkatakan',...\n",
      "1        ['peran', 'industri', 'gerabah', 'keramik', 's...\n",
      "2        ['industri', 'rajin', 'gerabah', 'peran', 'sum...\n",
      "3        ['peran', 'industri', 'warangka', 'keris', 'ti...\n",
      "4        ['bimbing', 'agama', 'islam', 'remaja', 'kelua...\n",
      "                               ...                        \n",
      "40131                       ['angel', 'in', 'the', 'rain']\n",
      "40132                           ['the', 'hunger', 'games']\n",
      "40133                        ['marrying', 'mr', 'perfect']\n",
      "40134              ['bad', 'boy', 'for', 'little', 'girl']\n",
      "40135    ['tinjau', 'yuridis', 'laksana', 'program', 'j...\n",
      "Name: judul_tokens_stemmed, Length: 40136, dtype: object\n"
     ]
    }
   ],
   "source": [
    "x = df_sentimen['judul_tokens_stemmed']\n",
    "y = df_sentimen['no']\n",
    "print('\\nJumlah Judul Buku : ')\n",
    "print(x)\n",
    "# print('\\nJumlah klasifikasi Buku : ')\n",
    "# print (y.value_counts())"
   ]
  },
  {
   "cell_type": "code",
   "execution_count": 4,
   "id": "65f450aa-abee-49a7-b676-1e47d971d37b",
   "metadata": {},
   "outputs": [],
   "source": [
    "# Membagi dataset menjadi data training dan data testing\n",
    "# 8:2\n",
    "from sklearn.model_selection import train_test_split\n",
    "x_train, x_test, y_train, y_test = train_test_split(x, y, test_size=0.2, stratify=y , random_state = 42)"
   ]
  },
  {
   "cell_type": "code",
   "execution_count": 5,
   "id": "53212030-4a01-49f5-9835-8e19c79d6472",
   "metadata": {},
   "outputs": [],
   "source": [
    "from sklearn.feature_extraction.text import TfidfVectorizer\n",
    "\n",
    "# convert data menjadi tfidf\n",
    "vectorizer = TfidfVectorizer() \n",
    "x_train = vectorizer.fit_transform(x_train)\n",
    "x_test = vectorizer.transform(x_test)"
   ]
  },
  {
   "cell_type": "code",
   "execution_count": 6,
   "id": "b8455d0f-d96a-49b9-8080-9601a03ecec9",
   "metadata": {},
   "outputs": [],
   "source": [
    "# Balancing data menggunakan smote\n",
    "from imblearn.over_sampling import SMOTE\n",
    "smote = SMOTE()"
   ]
  },
  {
   "cell_type": "code",
   "execution_count": 7,
   "id": "7d141c07-8a10-489c-96cf-37c0edcb5c5d",
   "metadata": {},
   "outputs": [],
   "source": [
    "x_train_smote, y_train_smote = smote.fit_resample(\n",
    "    x_train.astype('float'), # data training 80%\n",
    "    y_train\n",
    ")"
   ]
  },
  {
   "cell_type": "code",
   "execution_count": 8,
   "id": "fe9af863-0f41-4f13-8709-44adfc191856",
   "metadata": {},
   "outputs": [
    {
     "name": "stdout",
     "output_type": "stream",
     "text": [
      "Before SMOTE : \n",
      " Counter({6: 6988, 3: 6862, 8: 5922, 2: 3960, 7: 2098, 1: 1813, 5: 1312, 0: 1159, 9: 1158, 4: 836})\n",
      "After  SMOTE : \n",
      " Counter({6: 6988, 7: 6988, 8: 6988, 9: 6988, 3: 6988, 2: 6988, 1: 6988, 5: 6988, 0: 6988, 4: 6988})\n"
     ]
    }
   ],
   "source": [
    "from collections import Counter\n",
    "print(\"Before SMOTE : \\n\", Counter(y_train))\n",
    "print(\"After  SMOTE : \\n\", Counter(y_train_smote))"
   ]
  },
  {
   "cell_type": "code",
   "execution_count": 9,
   "id": "71761cb9-6c79-40ce-99f7-e7401f094542",
   "metadata": {},
   "outputs": [],
   "source": [
    "from sklearn.pipeline import Pipeline"
   ]
  },
  {
   "cell_type": "code",
   "execution_count": 10,
   "id": "45eee2f5-5187-4431-bf76-bb0c9875d08f",
   "metadata": {},
   "outputs": [],
   "source": [
    "# Multinomial Naive Bayes \n",
    "from sklearn.naive_bayes import MultinomialNB\n",
    "\n",
    "# Model MultinomialNB Menggunakan data training setelah di over sampling\n",
    "# model_smote = MultinomialNB()\n",
    "model_smote = Pipeline([\n",
    "    # ('pre_processing', TfidfVectorizer(analyzer='char', lowercase=False)),\n",
    "    ('naive_bayes', MultinomialNB())\n",
    "])"
   ]
  },
  {
   "cell_type": "code",
   "execution_count": 11,
   "id": "ae3b9ab4-ba42-4e79-a37b-c43a45b05dcc",
   "metadata": {},
   "outputs": [
    {
     "name": "stdout",
     "output_type": "stream",
     "text": [
      "[5 6 9 ... 8 3 8]\n"
     ]
    }
   ],
   "source": [
    "model_smote.fit(\n",
    "    x_train_smote, # data training 80%\n",
    "    y_train_smote\n",
    ")\n",
    "\n",
    "y_pred_smote = model_smote.predict(\n",
    "    x_test # data uji 20%\n",
    ")\n",
    "print(y_pred_smote)"
   ]
  },
  {
   "cell_type": "code",
   "execution_count": 12,
   "id": "0d258c62-38e0-44a9-88ec-d6bb26488bf5",
   "metadata": {},
   "outputs": [
    {
     "name": "stdout",
     "output_type": "stream",
     "text": [
      "\n",
      "================= confusion matrix ===================== \n"
     ]
    },
    {
     "data": {
      "image/png": "[encoded data removed]",
      "text/plain": [
       "<Figure size 576x360 with 2 Axes>"
      ]
     },
     "metadata": {
      "needs_background": "light"
     },
     "output_type": "display_data"
    },
    {
     "name": "stdout",
     "output_type": "stream",
     "text": [
      "\n",
      "=========================================== \n",
      "accuracy score hasil prediksi adalah: \n",
      "64.07573492775288\n",
      "precision score hasil prediksi adalah: \n",
      "64.07573492775288\n",
      "recall score hasil prediksi adalah: \n",
      "64.07573492775288\n",
      "\n",
      "============================================================================= \n",
      "accuracy nb adalah:  0.6407573492775287\n",
      "              precision    recall  f1-score   support\n",
      "\n",
      "           0       0.36      0.64      0.46       290\n",
      "           1       0.43      0.58      0.49       453\n",
      "           2       0.75      0.77      0.76       990\n",
      "           3       0.72      0.56      0.63      1716\n",
      "           4       0.49      0.88      0.63       209\n",
      "           5       0.44      0.62      0.51       328\n",
      "           6       0.82      0.72      0.76      1747\n",
      "           7       0.55      0.58      0.57       525\n",
      "           8       0.73      0.57      0.64      1480\n",
      "           9       0.38      0.64      0.48       290\n",
      "\n",
      "    accuracy                           0.64      8028\n",
      "   macro avg       0.57      0.66      0.59      8028\n",
      "weighted avg       0.68      0.64      0.65      8028\n",
      "\n",
      "\n",
      "============================================================================= \n"
     ]
    }
   ],
   "source": [
    "import seaborn as sns\n",
    "import matplotlib.pyplot as plt\n",
    "from sklearn.metrics import f1_score, recall_score, precision_score, confusion_matrix, accuracy_score, classification_report\n",
    "import matplotlib.pyplot as plt\n",
    "\n",
    "from sklearn.metrics import confusion_matrix\n",
    "\n",
    "print(\"\\n================= confusion matrix ===================== \")\n",
    "f, ax = plt.subplots(figsize=(8,5))\n",
    "sns.heatmap(confusion_matrix(y_test, y_pred_smote), annot=True, fmt=\".0f\", ax=ax)\n",
    "plt.xlabel(\"y_head\")\n",
    "plt.ylabel(\"y_true\")\n",
    "plt.show()\n",
    "print(\"\\n=========================================== \")\n",
    "# accuracy score\n",
    "print(\"accuracy score hasil prediksi adalah: \")\n",
    "print(accuracy_score(y_test, y_pred_smote) * 100)\n",
    "\n",
    "# precision score\n",
    "print(\"precision score hasil prediksi adalah: \")\n",
    "print(precision_score(y_test, y_pred_smote, average='micro') * 100)\n",
    "\n",
    "# recall score\n",
    "print(\"recall score hasil prediksi adalah: \")\n",
    "print(recall_score(y_test, y_pred_smote, average='micro') * 100)\n",
    "\n",
    "print(\"\\n============================================================================= \")\n",
    "print(\"accuracy nb adalah: \", accuracy_score(y_test, y_pred_smote))\n",
    "print(classification_report(y_test, y_pred_smote))\n",
    "print(\"\\n============================================================================= \")"
   ]
  },
  {
   "cell_type": "code",
   "execution_count": 19,
   "id": "dd466a47-9181-4c07-8665-70129806f8dc",
   "metadata": {},
   "outputs": [
    {
     "name": "stdout",
     "output_type": "stream",
     "text": [
      "  (0, 18003)\t0.3931796997135077\n",
      "  (0, 6733)\t0.28647632192714517\n",
      "  (0, 4384)\t0.3688166442618339\n",
      "  (0, 3471)\t0.5461370350486682\n",
      "  (0, 1516)\t0.5736285057177511\n"
     ]
    }
   ],
   "source": [
    "\n",
    "#tes uji data baru\n",
    "judul = [\"matematika dasar fisika biollogi\"]\n",
    "judul_asli = judul\n",
    "judul2 = [\"ekonomi indonesia sedang dalam tumbuh yang bangga\"]\n",
    "judul_asli2 = judul2\n",
    "#merubah ke bentuk number agar bisa di baca algoritma atau ML\n",
    "judul = vectorizer.transform(judul)\n",
    "judul2 = vectorizer.transform(judul2)\n",
    "\n",
    "print(judul2)"
   ]
  },
  {
   "cell_type": "code",
   "execution_count": 14,
   "id": "34a65141-db97-481d-9669-93e0a5d1303b",
   "metadata": {},
   "outputs": [
    {
     "name": "stdout",
     "output_type": "stream",
     "text": [
      "[3]\n",
      "['ekonomi indonesia sedang dalam tumbuh yang bangga'] Sosial\n"
     ]
    }
   ],
   "source": [
    "prediksi2 = model_smote.predict(judul2)\n",
    "print(prediksi2)\n",
    "if prediksi2 == 0:\n",
    "    print(judul_asli2, \"Umum\")\n",
    "if prediksi2 == 1:\n",
    "    print(judul_asli2, \"Filsafat dan Psikologi\")   \n",
    "if prediksi2 == 2:\n",
    "    print(judul_asli2, \"Agama\")\n",
    "if prediksi2 == 3:\n",
    "    print(judul_asli2, \"Sosial\")\n",
    "if prediksi2 == 4:\n",
    "    print(judul_asli2, \"Bahasa\")\n",
    "if prediksi2 == 5:\n",
    "    print(judul_asli2, \"Sains dan Matematika\")\n",
    "if prediksi2 == 6:\n",
    "    print(judul_asli2, \"Teknologi\")\n",
    "if prediksi2 == 7:\n",
    "    print(judul_asli2, \"Seni dan Rekreasi\")\n",
    "if prediksi2 == 8:\n",
    "    print(judul_asli2, \"Literartur dan Sastra\")\n",
    "if prediksi2 == 9:\n",
    "    print(judul_asli2, \"Sejarah dan Geografi\")"
   ]
  },
  {
   "cell_type": "code",
   "execution_count": 23,
   "id": "3ee73838-c1e5-4bbd-ab13-472b98b5fefb",
   "metadata": {},
   "outputs": [],
   "source": [
    "# saving pocket module\n",
    "import joblib"
   ]
  },
  {
   "cell_type": "code",
   "execution_count": 21,
   "id": "aeb02efa-6f59-4c4f-9248-7c01f67779a5",
   "metadata": {},
   "outputs": [
    {
     "data": {
      "text/plain": [
       "['models/judul_model_nb.pkl']"
      ]
     },
     "execution_count": 21,
     "metadata": {},
     "output_type": "execute_result"
    }
   ],
   "source": [
    "joblib.dump(model_smote, 'models/judul_model_nb.pkl')"
   ]
  },
  {
   "cell_type": "code",
   "execution_count": 22,
   "id": "caae992d-2b0c-43b8-8391-0bf8580da37c",
   "metadata": {},
   "outputs": [
    {
     "data": {
      "text/plain": [
       "['models/judul_model_tfid.pkl']"
      ]
     },
     "execution_count": 22,
     "metadata": {},
     "output_type": "execute_result"
    }
   ],
   "source": [
    "joblib.dump(vectorizer, 'models/judul_model_tfid.pkl')"
   ]
  },
  {
   "cell_type": "code",
   "execution_count": null,
   "id": "cb06d718-0ff4-4702-a7c1-ce7c605b37a7",
   "metadata": {},
   "outputs": [],
   "source": []
  }
 ],
 "metadata": {
  "kernelspec": {
   "display_name": "Python 3 (ipykernel)",
   "language": "python",
   "name": "python3"
  },
  "language_info": {
   "codemirror_mode": {
    "name": "ipython",
    "version": 3
   },
   "file_extension": ".py",
   "mimetype": "text/x-python",
   "name": "python",
   "nbconvert_exporter": "python",
   "pygments_lexer": "ipython3",
   "version": "3.9.10"
  }
 },
 "nbformat": 4,
 "nbformat_minor": 5
}
