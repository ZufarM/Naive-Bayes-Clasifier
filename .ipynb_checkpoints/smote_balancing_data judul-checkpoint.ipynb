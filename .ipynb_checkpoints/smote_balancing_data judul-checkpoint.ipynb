{
 "cells": [
  {
   "cell_type": "code",
   "execution_count": 1,
   "id": "9120f61f-f038-4be0-bafd-9d23ed28a1f6",
   "metadata": {},
   "outputs": [],
   "source": [
    "import numpy as np\n",
    "import pandas as pd \n",
    "import matplotlib.pyplot as plt\n",
    "import seaborn as sns"
   ]
  },
  {
   "cell_type": "code",
   "execution_count": 5,
   "id": "adbed1ce-4d6d-48d2-a646-312a17c222a9",
   "metadata": {},
   "outputs": [
    {
     "data": {
      "text/html": [
       "<div>\n",
       "<style scoped>\n",
       "    .dataframe tbody tr th:only-of-type {\n",
       "        vertical-align: middle;\n",
       "    }\n",
       "\n",
       "    .dataframe tbody tr th {\n",
       "        vertical-align: top;\n",
       "    }\n",
       "\n",
       "    .dataframe thead th {\n",
       "        text-align: right;\n",
       "    }\n",
       "</style>\n",
       "<table border=\"1\" class=\"dataframe\">\n",
       "  <thead>\n",
       "    <tr style=\"text-align: right;\">\n",
       "      <th></th>\n",
       "      <th>Unnamed: 0</th>\n",
       "      <th>no</th>\n",
       "      <th>judul</th>\n",
       "      <th>judul_tokens</th>\n",
       "      <th>judul_tokens_fdist</th>\n",
       "      <th>judul_tokens_WSW</th>\n",
       "      <th>judul_tokens_stemmed</th>\n",
       "    </tr>\n",
       "  </thead>\n",
       "  <tbody>\n",
       "    <tr>\n",
       "      <th>0</th>\n",
       "      <td>0</td>\n",
       "      <td>3</td>\n",
       "      <td>usaha kerajinan gerabah untuk meningkatakan pe...</td>\n",
       "      <td>['usaha', 'kerajinan', 'gerabah', 'untuk', 'me...</td>\n",
       "      <td>&lt;FreqDist with 19 samples and 19 outcomes&gt;</td>\n",
       "      <td>['usaha', 'kerajinan', 'gerabah', 'meningkatak...</td>\n",
       "      <td>['usaha', 'rajin', 'gerabah', 'meningkatakan',...</td>\n",
       "    </tr>\n",
       "    <tr>\n",
       "      <th>1</th>\n",
       "      <td>1</td>\n",
       "      <td>3</td>\n",
       "      <td>peranan industri gerabah keramik sebagai suatu...</td>\n",
       "      <td>['peranan', 'industri', 'gerabah', 'keramik', ...</td>\n",
       "      <td>&lt;FreqDist with 18 samples and 18 outcomes&gt;</td>\n",
       "      <td>['peranan', 'industri', 'gerabah', 'keramik', ...</td>\n",
       "      <td>['peran', 'industri', 'gerabah', 'keramik', 's...</td>\n",
       "    </tr>\n",
       "    <tr>\n",
       "      <th>2</th>\n",
       "      <td>2</td>\n",
       "      <td>3</td>\n",
       "      <td>industri kerajinan gerabah dan peranannya seba...</td>\n",
       "      <td>['industri', 'kerajinan', 'gerabah', 'dan', 'p...</td>\n",
       "      <td>&lt;FreqDist with 17 samples and 17 outcomes&gt;</td>\n",
       "      <td>['industri', 'kerajinan', 'gerabah', 'peranann...</td>\n",
       "      <td>['industri', 'rajin', 'gerabah', 'peran', 'sum...</td>\n",
       "    </tr>\n",
       "    <tr>\n",
       "      <th>3</th>\n",
       "      <td>3</td>\n",
       "      <td>3</td>\n",
       "      <td>peranan industri kecil warangka keris dalam me...</td>\n",
       "      <td>['peranan', 'industri', 'kecil', 'warangka', '...</td>\n",
       "      <td>&lt;FreqDist with 9 samples and 9 outcomes&gt;</td>\n",
       "      <td>['peranan', 'industri', 'warangka', 'keris', '...</td>\n",
       "      <td>['peran', 'industri', 'warangka', 'keris', 'ti...</td>\n",
       "    </tr>\n",
       "    <tr>\n",
       "      <th>4</th>\n",
       "      <td>4</td>\n",
       "      <td>3</td>\n",
       "      <td>bimbingan agama islam terhadap remaja dalam ke...</td>\n",
       "      <td>['bimbingan', 'agama', 'islam', 'terhadap', 'r...</td>\n",
       "      <td>&lt;FreqDist with 14 samples and 14 outcomes&gt;</td>\n",
       "      <td>['bimbingan', 'agama', 'islam', 'remaja', 'kel...</td>\n",
       "      <td>['bimbing', 'agama', 'islam', 'remaja', 'kelua...</td>\n",
       "    </tr>\n",
       "  </tbody>\n",
       "</table>\n",
       "</div>"
      ],
      "text/plain": [
       "   Unnamed: 0  no                                              judul  \\\n",
       "0           0   3  usaha kerajinan gerabah untuk meningkatakan pe...   \n",
       "1           1   3  peranan industri gerabah keramik sebagai suatu...   \n",
       "2           2   3  industri kerajinan gerabah dan peranannya seba...   \n",
       "3           3   3  peranan industri kecil warangka keris dalam me...   \n",
       "4           4   3  bimbingan agama islam terhadap remaja dalam ke...   \n",
       "\n",
       "                                        judul_tokens  \\\n",
       "0  ['usaha', 'kerajinan', 'gerabah', 'untuk', 'me...   \n",
       "1  ['peranan', 'industri', 'gerabah', 'keramik', ...   \n",
       "2  ['industri', 'kerajinan', 'gerabah', 'dan', 'p...   \n",
       "3  ['peranan', 'industri', 'kecil', 'warangka', '...   \n",
       "4  ['bimbingan', 'agama', 'islam', 'terhadap', 'r...   \n",
       "\n",
       "                           judul_tokens_fdist  \\\n",
       "0  <FreqDist with 19 samples and 19 outcomes>   \n",
       "1  <FreqDist with 18 samples and 18 outcomes>   \n",
       "2  <FreqDist with 17 samples and 17 outcomes>   \n",
       "3    <FreqDist with 9 samples and 9 outcomes>   \n",
       "4  <FreqDist with 14 samples and 14 outcomes>   \n",
       "\n",
       "                                    judul_tokens_WSW  \\\n",
       "0  ['usaha', 'kerajinan', 'gerabah', 'meningkatak...   \n",
       "1  ['peranan', 'industri', 'gerabah', 'keramik', ...   \n",
       "2  ['industri', 'kerajinan', 'gerabah', 'peranann...   \n",
       "3  ['peranan', 'industri', 'warangka', 'keris', '...   \n",
       "4  ['bimbingan', 'agama', 'islam', 'remaja', 'kel...   \n",
       "\n",
       "                                judul_tokens_stemmed  \n",
       "0  ['usaha', 'rajin', 'gerabah', 'meningkatakan',...  \n",
       "1  ['peran', 'industri', 'gerabah', 'keramik', 's...  \n",
       "2  ['industri', 'rajin', 'gerabah', 'peran', 'sum...  \n",
       "3  ['peran', 'industri', 'warangka', 'keris', 'ti...  \n",
       "4  ['bimbing', 'agama', 'islam', 'remaja', 'kelua...  "
      ]
     },
     "execution_count": 5,
     "metadata": {},
     "output_type": "execute_result"
    }
   ],
   "source": [
    "df_sentimen = pd.read_csv('Text_Preprocessing.csv')\n",
    "df_sentimen.head()"
   ]
  },
  {
   "cell_type": "code",
   "execution_count": 6,
   "id": "a6134835-95ba-4c42-a486-19e65c76598e",
   "metadata": {},
   "outputs": [
    {
     "data": {
      "image/png": "[encoded data removed]",
      "text/plain": [
       "<Figure size 720x432 with 1 Axes>"
      ]
     },
     "metadata": {
      "needs_background": "light"
     },
     "output_type": "display_data"
    }
   ],
   "source": [
    "ax = df_sentimen['no'].value_counts().plot(kind='bar', figsize=(10, 6), fontsize=13, color='#087E8B')\n",
    "ax.set_title('Klasifikasi Buku', size=20, pad=30)\n",
    "ax.set_ylabel('Jumlah Judul', fontsize=14)\n",
    "\n",
    "for i in ax.patches:\n",
    "    ax.text(i.get_x() + 0.19, i.get_height() + 700, str(round(i.get_height(), 2)), fontsize=15)"
   ]
  },
  {
   "cell_type": "code",
   "execution_count": 7,
   "id": "6e02cfc5-1f2b-408a-b1bd-008aa4d1923f",
   "metadata": {},
   "outputs": [
    {
     "name": "stdout",
     "output_type": "stream",
     "text": [
      "\n",
      "Jumlah Judul Buku : \n",
      "0        ['usaha', 'rajin', 'gerabah', 'meningkatakan',...\n",
      "1        ['peran', 'industri', 'gerabah', 'keramik', 's...\n",
      "2        ['industri', 'rajin', 'gerabah', 'peran', 'sum...\n",
      "3        ['peran', 'industri', 'warangka', 'keris', 'ti...\n",
      "4        ['bimbing', 'agama', 'islam', 'remaja', 'kelua...\n",
      "                               ...                        \n",
      "40131                       ['angel', 'in', 'the', 'rain']\n",
      "40132                           ['the', 'hunger', 'games']\n",
      "40133                        ['marrying', 'mr', 'perfect']\n",
      "40134              ['bad', 'boy', 'for', 'little', 'girl']\n",
      "40135    ['tinjau', 'yuridis', 'laksana', 'program', 'j...\n",
      "Name: judul_tokens_stemmed, Length: 40136, dtype: object\n",
      "\n",
      "Jumlah klasifikasi Buku : \n",
      "6    8735\n",
      "3    8578\n",
      "8    7402\n",
      "2    4950\n",
      "7    2623\n",
      "1    2266\n",
      "5    1640\n",
      "0    1449\n",
      "9    1448\n",
      "4    1045\n",
      "Name: no, dtype: int64\n"
     ]
    }
   ],
   "source": [
    "x = df_sentimen['judul_tokens_stemmed']\n",
    "y = df_sentimen['no']\n",
    "print('\\nJumlah Judul Buku : ')\n",
    "print(x)\n",
    "print('\\nJumlah klasifikasi Buku : ')\n",
    "print (y.value_counts())"
   ]
  },
  {
   "cell_type": "code",
   "execution_count": 8,
   "id": "5386ddce-e3da-4b69-bc08-f18585446dc3",
   "metadata": {},
   "outputs": [
    {
     "data": {
      "text/plain": [
       "<bound method NDFrame.head of 0        ['usaha', 'rajin', 'gerabah', 'meningkatakan',...\n",
       "1        ['peran', 'industri', 'gerabah', 'keramik', 's...\n",
       "2        ['industri', 'rajin', 'gerabah', 'peran', 'sum...\n",
       "3        ['peran', 'industri', 'warangka', 'keris', 'ti...\n",
       "4        ['bimbing', 'agama', 'islam', 'remaja', 'kelua...\n",
       "                               ...                        \n",
       "40131                       ['angel', 'in', 'the', 'rain']\n",
       "40132                           ['the', 'hunger', 'games']\n",
       "40133                        ['marrying', 'mr', 'perfect']\n",
       "40134              ['bad', 'boy', 'for', 'little', 'girl']\n",
       "40135    ['tinjau', 'yuridis', 'laksana', 'program', 'j...\n",
       "Name: judul_tokens_stemmed, Length: 40136, dtype: object>"
      ]
     },
     "execution_count": 8,
     "metadata": {},
     "output_type": "execute_result"
    }
   ],
   "source": [
    "x.head"
   ]
  },
  {
   "cell_type": "code",
   "execution_count": 9,
   "id": "04db464a-a563-401a-961d-64188d905401",
   "metadata": {},
   "outputs": [],
   "source": [
    "from sklearn.preprocessing import LabelEncoder\n",
    "enc = LabelEncoder()\n",
    "# x.apply(enc.fit_transform)\n",
    "# x.head"
   ]
  },
  {
   "cell_type": "code",
   "execution_count": 10,
   "id": "0a14a275-ad0a-44fa-a43c-bcf11465a623",
   "metadata": {},
   "outputs": [],
   "source": [
    "from sklearn.model_selection import train_test_split\n",
    "x_train, x_test, y_train, y_test = train_test_split(x, y, test_size=0.2, stratify=y , random_state = 42)"
   ]
  },
  {
   "cell_type": "code",
   "execution_count": 11,
   "id": "0f73807c-ce0d-40e6-8a30-0f5875b187f7",
   "metadata": {},
   "outputs": [],
   "source": [
    "from sklearn.feature_extraction.text import TfidfVectorizer"
   ]
  },
  {
   "cell_type": "code",
   "execution_count": 12,
   "id": "632b4245-3f1b-46ed-bc8b-5fe0187646bd",
   "metadata": {},
   "outputs": [],
   "source": [
    "#tfidf\n",
    "vectorizer = TfidfVectorizer() \n",
    "x_train = vectorizer.fit_transform(x_train)\n",
    "x_test = vectorizer.transform(x_test)"
   ]
  },
  {
   "cell_type": "code",
   "execution_count": 13,
   "id": "8d272a97-2cbb-4e97-bf27-9f983b582c04",
   "metadata": {},
   "outputs": [
    {
     "name": "stdout",
     "output_type": "stream",
     "text": [
      "[8 6 9 ... 8 8 8]\n"
     ]
    }
   ],
   "source": [
    "from sklearn.neighbors import KNeighborsClassifier\n",
    "model = KNeighborsClassifier()\n",
    "model.fit(\n",
    "    x_train, # data training 80%\n",
    "    y_train\n",
    ")\n",
    "\n",
    "y_pred = model.predict(\n",
    "    x_test # data uji 20%\n",
    ")\n",
    "print(y_pred)"
   ]
  },
  {
   "cell_type": "code",
   "execution_count": 14,
   "id": "34a88100-10a8-43c4-8fb9-10529027e873",
   "metadata": {},
   "outputs": [
    {
     "name": "stdout",
     "output_type": "stream",
     "text": [
      "\n",
      "================= confusion matrix ===================== \n"
     ]
    },
    {
     "data": {
      "image/png": "[encoded data removed]",
      "text/plain": [
       "<Figure size 576x360 with 2 Axes>"
      ]
     },
     "metadata": {
      "needs_background": "light"
     },
     "output_type": "display_data"
    },
    {
     "name": "stdout",
     "output_type": "stream",
     "text": [
      "\n",
      "=========================================== \n",
      "accuracy score hasil prediksi adalah: \n",
      "45.97658196312905\n",
      "precision score hasil prediksi adalah: \n",
      "45.97658196312905\n",
      "recall score hasil prediksi adalah: \n",
      "45.97658196312905\n",
      "\n",
      "============================================================================= \n",
      "accuracy knn adalah:  0.4597658196312905\n",
      "              precision    recall  f1-score   support\n",
      "\n",
      "           0       0.47      0.35      0.40       290\n",
      "           1       0.40      0.31      0.35       453\n",
      "           2       0.68      0.46      0.55       990\n",
      "           3       0.55      0.40      0.46      1716\n",
      "           4       0.84      0.42      0.56       209\n",
      "           5       0.55      0.35      0.43       328\n",
      "           6       0.79      0.43      0.56      1747\n",
      "           7       0.72      0.31      0.44       525\n",
      "           8       0.29      0.77      0.42      1480\n",
      "           9       0.54      0.16      0.25       290\n",
      "\n",
      "    accuracy                           0.46      8028\n",
      "   macro avg       0.58      0.40      0.44      8028\n",
      "weighted avg       0.58      0.46      0.47      8028\n",
      "\n",
      "\n",
      "============================================================================= \n"
     ]
    }
   ],
   "source": [
    "import seaborn as sns\n",
    "import matplotlib.pyplot as plt\n",
    "from sklearn.metrics import f1_score, recall_score, precision_score, confusion_matrix, accuracy_score, classification_report\n",
    "import matplotlib.pyplot as plt\n",
    "\n",
    "from sklearn.metrics import confusion_matrix\n",
    "# cm = confusion_matrix(y_test, y_pred)\n",
    "print(\"\\n================= confusion matrix ===================== \")\n",
    "# print(cm)\n",
    "f, ax = plt.subplots(figsize=(8,5))\n",
    "sns.heatmap(confusion_matrix(y_test, y_pred), annot=True, fmt=\".0f\", ax=ax)\n",
    "plt.xlabel(\"y_head\")\n",
    "plt.ylabel(\"y_true\")\n",
    "plt.show()\n",
    "print(\"\\n=========================================== \")\n",
    "# accuracy score\n",
    "print(\"accuracy score hasil prediksi adalah: \")\n",
    "print(accuracy_score(y_test, y_pred) * 100)\n",
    "\n",
    "# precision score\n",
    "print(\"precision score hasil prediksi adalah: \")\n",
    "print(precision_score(y_test, y_pred, average='micro') * 100)\n",
    "\n",
    "# recall score\n",
    "print(\"recall score hasil prediksi adalah: \")\n",
    "print(recall_score(y_test, y_pred, average='micro') * 100)\n",
    "\n",
    "print(\"\\n============================================================================= \")\n",
    "print(\"accuracy knn adalah: \", accuracy_score(y_test, y_pred))\n",
    "print(classification_report(y_test, y_pred))\n",
    "print(\"\\n============================================================================= \")"
   ]
  },
  {
   "cell_type": "code",
   "execution_count": 15,
   "id": "91b02805-cf53-4c28-b865-9e4cbcb528df",
   "metadata": {},
   "outputs": [
    {
     "data": {
      "text/html": [
       "<div>\n",
       "<style scoped>\n",
       "    .dataframe tbody tr th:only-of-type {\n",
       "        vertical-align: middle;\n",
       "    }\n",
       "\n",
       "    .dataframe tbody tr th {\n",
       "        vertical-align: top;\n",
       "    }\n",
       "\n",
       "    .dataframe thead th {\n",
       "        text-align: right;\n",
       "    }\n",
       "</style>\n",
       "<table border=\"1\" class=\"dataframe\">\n",
       "  <thead>\n",
       "    <tr style=\"text-align: right;\">\n",
       "      <th>col_0</th>\n",
       "      <th>0</th>\n",
       "      <th>1</th>\n",
       "      <th>2</th>\n",
       "      <th>3</th>\n",
       "      <th>4</th>\n",
       "      <th>5</th>\n",
       "      <th>6</th>\n",
       "      <th>7</th>\n",
       "      <th>8</th>\n",
       "      <th>9</th>\n",
       "    </tr>\n",
       "    <tr>\n",
       "      <th>no</th>\n",
       "      <th></th>\n",
       "      <th></th>\n",
       "      <th></th>\n",
       "      <th></th>\n",
       "      <th></th>\n",
       "      <th></th>\n",
       "      <th></th>\n",
       "      <th></th>\n",
       "      <th></th>\n",
       "      <th></th>\n",
       "    </tr>\n",
       "  </thead>\n",
       "  <tbody>\n",
       "    <tr>\n",
       "      <th>0</th>\n",
       "      <td>101</td>\n",
       "      <td>4</td>\n",
       "      <td>8</td>\n",
       "      <td>31</td>\n",
       "      <td>1</td>\n",
       "      <td>8</td>\n",
       "      <td>14</td>\n",
       "      <td>2</td>\n",
       "      <td>120</td>\n",
       "      <td>1</td>\n",
       "    </tr>\n",
       "    <tr>\n",
       "      <th>1</th>\n",
       "      <td>3</td>\n",
       "      <td>140</td>\n",
       "      <td>18</td>\n",
       "      <td>67</td>\n",
       "      <td>0</td>\n",
       "      <td>2</td>\n",
       "      <td>14</td>\n",
       "      <td>1</td>\n",
       "      <td>205</td>\n",
       "      <td>3</td>\n",
       "    </tr>\n",
       "    <tr>\n",
       "      <th>2</th>\n",
       "      <td>17</td>\n",
       "      <td>40</td>\n",
       "      <td>452</td>\n",
       "      <td>70</td>\n",
       "      <td>2</td>\n",
       "      <td>5</td>\n",
       "      <td>9</td>\n",
       "      <td>5</td>\n",
       "      <td>383</td>\n",
       "      <td>7</td>\n",
       "    </tr>\n",
       "    <tr>\n",
       "      <th>3</th>\n",
       "      <td>26</td>\n",
       "      <td>52</td>\n",
       "      <td>58</td>\n",
       "      <td>682</td>\n",
       "      <td>5</td>\n",
       "      <td>23</td>\n",
       "      <td>74</td>\n",
       "      <td>12</td>\n",
       "      <td>777</td>\n",
       "      <td>7</td>\n",
       "    </tr>\n",
       "    <tr>\n",
       "      <th>4</th>\n",
       "      <td>3</td>\n",
       "      <td>6</td>\n",
       "      <td>4</td>\n",
       "      <td>16</td>\n",
       "      <td>88</td>\n",
       "      <td>1</td>\n",
       "      <td>5</td>\n",
       "      <td>1</td>\n",
       "      <td>85</td>\n",
       "      <td>0</td>\n",
       "    </tr>\n",
       "    <tr>\n",
       "      <th>5</th>\n",
       "      <td>9</td>\n",
       "      <td>6</td>\n",
       "      <td>8</td>\n",
       "      <td>41</td>\n",
       "      <td>2</td>\n",
       "      <td>115</td>\n",
       "      <td>22</td>\n",
       "      <td>6</td>\n",
       "      <td>116</td>\n",
       "      <td>3</td>\n",
       "    </tr>\n",
       "    <tr>\n",
       "      <th>6</th>\n",
       "      <td>32</td>\n",
       "      <td>45</td>\n",
       "      <td>17</td>\n",
       "      <td>126</td>\n",
       "      <td>1</td>\n",
       "      <td>25</td>\n",
       "      <td>758</td>\n",
       "      <td>7</td>\n",
       "      <td>730</td>\n",
       "      <td>6</td>\n",
       "    </tr>\n",
       "    <tr>\n",
       "      <th>7</th>\n",
       "      <td>7</td>\n",
       "      <td>17</td>\n",
       "      <td>14</td>\n",
       "      <td>34</td>\n",
       "      <td>3</td>\n",
       "      <td>9</td>\n",
       "      <td>31</td>\n",
       "      <td>164</td>\n",
       "      <td>241</td>\n",
       "      <td>5</td>\n",
       "    </tr>\n",
       "    <tr>\n",
       "      <th>8</th>\n",
       "      <td>13</td>\n",
       "      <td>34</td>\n",
       "      <td>64</td>\n",
       "      <td>143</td>\n",
       "      <td>1</td>\n",
       "      <td>14</td>\n",
       "      <td>31</td>\n",
       "      <td>28</td>\n",
       "      <td>1145</td>\n",
       "      <td>7</td>\n",
       "    </tr>\n",
       "    <tr>\n",
       "      <th>9</th>\n",
       "      <td>5</td>\n",
       "      <td>7</td>\n",
       "      <td>20</td>\n",
       "      <td>36</td>\n",
       "      <td>2</td>\n",
       "      <td>8</td>\n",
       "      <td>3</td>\n",
       "      <td>2</td>\n",
       "      <td>161</td>\n",
       "      <td>46</td>\n",
       "    </tr>\n",
       "  </tbody>\n",
       "</table>\n",
       "</div>"
      ],
      "text/plain": [
       "col_0    0    1    2    3   4    5    6    7     8   9\n",
       "no                                                    \n",
       "0      101    4    8   31   1    8   14    2   120   1\n",
       "1        3  140   18   67   0    2   14    1   205   3\n",
       "2       17   40  452   70   2    5    9    5   383   7\n",
       "3       26   52   58  682   5   23   74   12   777   7\n",
       "4        3    6    4   16  88    1    5    1    85   0\n",
       "5        9    6    8   41   2  115   22    6   116   3\n",
       "6       32   45   17  126   1   25  758    7   730   6\n",
       "7        7   17   14   34   3    9   31  164   241   5\n",
       "8       13   34   64  143   1   14   31   28  1145   7\n",
       "9        5    7   20   36   2    8    3    2   161  46"
      ]
     },
     "execution_count": 15,
     "metadata": {},
     "output_type": "execute_result"
    }
   ],
   "source": [
    "pd.crosstab(y_test, y_pred)"
   ]
  },
  {
   "cell_type": "code",
   "execution_count": 16,
   "id": "01992f15-39c7-4c81-9437-eac3798b445c",
   "metadata": {},
   "outputs": [],
   "source": [
    "# pip install imblearn"
   ]
  },
  {
   "cell_type": "code",
   "execution_count": 19,
   "id": "02bad391-59fb-4c56-9899-55752fb51568",
   "metadata": {},
   "outputs": [],
   "source": [
    "from imblearn.over_sampling import SMOTE\n",
    "smote = SMOTE()"
   ]
  },
  {
   "cell_type": "code",
   "execution_count": 25,
   "id": "1d821e58-ea5a-4a48-8ccc-f52dfc210e13",
   "metadata": {},
   "outputs": [],
   "source": [
    "x_train_smote, y_train_smote = smote.fit_resample(\n",
    "    x_train.astype('float'), # data training 80%\n",
    "    y_train\n",
    ")"
   ]
  },
  {
   "cell_type": "code",
   "execution_count": 29,
   "id": "8e4f08be-7764-40b8-a40c-bbb8c18bb07d",
   "metadata": {},
   "outputs": [
    {
     "name": "stdout",
     "output_type": "stream",
     "text": [
      "Before SMOTE : Counter({6: 6988, 3: 6862, 8: 5922, 2: 3960, 7: 2098, 1: 1813, 5: 1312, 0: 1159, 9: 1158, 4: 836})\n",
      "After  SMOTE : Counter({6: 6988, 7: 6988, 8: 6988, 9: 6988, 3: 6988, 2: 6988, 1: 6988, 5: 6988, 0: 6988, 4: 6988})\n"
     ]
    }
   ],
   "source": [
    "from collections import Counter\n",
    "print(\"Before SMOTE :\", Counter(y_train))\n",
    "print(\"After  SMOTE :\", Counter(y_train_smote))"
   ]
  },
  {
   "cell_type": "code",
   "execution_count": null,
   "id": "441ac926-cdeb-4b5f-9399-5847b76581f9",
   "metadata": {},
   "outputs": [],
   "source": []
  }
 ],
 "metadata": {
  "kernelspec": {
   "display_name": "Python 3 (ipykernel)",
   "language": "python",
   "name": "python3"
  },
  "language_info": {
   "codemirror_mode": {
    "name": "ipython",
    "version": 3
   },
   "file_extension": ".py",
   "mimetype": "text/x-python",
   "name": "python",
   "nbconvert_exporter": "python",
   "pygments_lexer": "ipython3",
   "version": "3.9.7"
  }
 },
 "nbformat": 4,
 "nbformat_minor": 5
}
