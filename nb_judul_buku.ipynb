{
 "cells": [
  {
   "cell_type": "code",
   "execution_count": 1,
   "id": "82b944c0-18b3-4f7b-b0af-125ba8ada168",
   "metadata": {},
   "outputs": [],
   "source": [
    "import pandas as pd \n",
    "import numpy as np \n"
   ]
  },
  {
   "cell_type": "code",
   "execution_count": 2,
   "id": "22203169-1e80-42c2-8201-a03698e84012",
   "metadata": {},
   "outputs": [],
   "source": [
    "df_sentimen = pd.read_csv('text_preprocessing.csv')"
   ]
  },
  {
   "cell_type": "code",
   "execution_count": 3,
   "id": "f0104b01-90f1-446d-bacb-471f0b729b74",
   "metadata": {},
   "outputs": [
    {
     "name": "stdout",
     "output_type": "stream",
     "text": [
      "The scikit-learn version is 1.0.2.\n"
     ]
    }
   ],
   "source": [
    "# import nltk\n",
    "import sklearn\n",
    "\n",
    "# print('The nltk version is {}.'.format(nltk.__version__))\n",
    "print('The scikit-learn version is {}.'.format(sklearn.__version__))"
   ]
  },
  {
   "cell_type": "code",
   "execution_count": 4,
   "id": "dc56c526-fd8a-4d4e-a62b-bf5698505edf",
   "metadata": {},
   "outputs": [
    {
     "data": {
      "text/html": [
       "<div>\n",
       "<style scoped>\n",
       "    .dataframe tbody tr th:only-of-type {\n",
       "        vertical-align: middle;\n",
       "    }\n",
       "\n",
       "    .dataframe tbody tr th {\n",
       "        vertical-align: top;\n",
       "    }\n",
       "\n",
       "    .dataframe thead th {\n",
       "        text-align: right;\n",
       "    }\n",
       "</style>\n",
       "<table border=\"1\" class=\"dataframe\">\n",
       "  <thead>\n",
       "    <tr style=\"text-align: right;\">\n",
       "      <th></th>\n",
       "      <th>Unnamed: 0</th>\n",
       "      <th>no</th>\n",
       "      <th>judul</th>\n",
       "      <th>judul_tokens</th>\n",
       "      <th>judul_tokens_fdist</th>\n",
       "      <th>judul_tokens_WSW</th>\n",
       "      <th>judul_tokens_stemmed</th>\n",
       "    </tr>\n",
       "  </thead>\n",
       "  <tbody>\n",
       "    <tr>\n",
       "      <th>0</th>\n",
       "      <td>0</td>\n",
       "      <td>3</td>\n",
       "      <td>usaha kerajinan gerabah untuk meningkatakan pe...</td>\n",
       "      <td>['usaha', 'kerajinan', 'gerabah', 'untuk', 'me...</td>\n",
       "      <td>&lt;FreqDist with 19 samples and 19 outcomes&gt;</td>\n",
       "      <td>['usaha', 'kerajinan', 'gerabah', 'meningkatak...</td>\n",
       "      <td>['usaha', 'rajin', 'gerabah', 'meningkatakan',...</td>\n",
       "    </tr>\n",
       "    <tr>\n",
       "      <th>1</th>\n",
       "      <td>1</td>\n",
       "      <td>3</td>\n",
       "      <td>peranan industri gerabah keramik sebagai suatu...</td>\n",
       "      <td>['peranan', 'industri', 'gerabah', 'keramik', ...</td>\n",
       "      <td>&lt;FreqDist with 18 samples and 18 outcomes&gt;</td>\n",
       "      <td>['peranan', 'industri', 'gerabah', 'keramik', ...</td>\n",
       "      <td>['peran', 'industri', 'gerabah', 'keramik', 's...</td>\n",
       "    </tr>\n",
       "    <tr>\n",
       "      <th>2</th>\n",
       "      <td>2</td>\n",
       "      <td>3</td>\n",
       "      <td>industri kerajinan gerabah dan peranannya seba...</td>\n",
       "      <td>['industri', 'kerajinan', 'gerabah', 'dan', 'p...</td>\n",
       "      <td>&lt;FreqDist with 17 samples and 17 outcomes&gt;</td>\n",
       "      <td>['industri', 'kerajinan', 'gerabah', 'peranann...</td>\n",
       "      <td>['industri', 'rajin', 'gerabah', 'peran', 'sum...</td>\n",
       "    </tr>\n",
       "    <tr>\n",
       "      <th>3</th>\n",
       "      <td>3</td>\n",
       "      <td>3</td>\n",
       "      <td>peranan industri kecil warangka keris dalam me...</td>\n",
       "      <td>['peranan', 'industri', 'kecil', 'warangka', '...</td>\n",
       "      <td>&lt;FreqDist with 9 samples and 9 outcomes&gt;</td>\n",
       "      <td>['peranan', 'industri', 'warangka', 'keris', '...</td>\n",
       "      <td>['peran', 'industri', 'warangka', 'keris', 'ti...</td>\n",
       "    </tr>\n",
       "    <tr>\n",
       "      <th>4</th>\n",
       "      <td>4</td>\n",
       "      <td>3</td>\n",
       "      <td>bimbingan agama islam terhadap remaja dalam ke...</td>\n",
       "      <td>['bimbingan', 'agama', 'islam', 'terhadap', 'r...</td>\n",
       "      <td>&lt;FreqDist with 14 samples and 14 outcomes&gt;</td>\n",
       "      <td>['bimbingan', 'agama', 'islam', 'remaja', 'kel...</td>\n",
       "      <td>['bimbing', 'agama', 'islam', 'remaja', 'kelua...</td>\n",
       "    </tr>\n",
       "    <tr>\n",
       "      <th>...</th>\n",
       "      <td>...</td>\n",
       "      <td>...</td>\n",
       "      <td>...</td>\n",
       "      <td>...</td>\n",
       "      <td>...</td>\n",
       "      <td>...</td>\n",
       "      <td>...</td>\n",
       "    </tr>\n",
       "    <tr>\n",
       "      <th>40131</th>\n",
       "      <td>40131</td>\n",
       "      <td>8</td>\n",
       "      <td>angel in the rain</td>\n",
       "      <td>['angel', 'in', 'the', 'rain']</td>\n",
       "      <td>&lt;FreqDist with 4 samples and 4 outcomes&gt;</td>\n",
       "      <td>['angel', 'in', 'the', 'rain']</td>\n",
       "      <td>['angel', 'in', 'the', 'rain']</td>\n",
       "    </tr>\n",
       "    <tr>\n",
       "      <th>40132</th>\n",
       "      <td>40132</td>\n",
       "      <td>8</td>\n",
       "      <td>the hunger games</td>\n",
       "      <td>['the', 'hunger', 'games']</td>\n",
       "      <td>&lt;FreqDist with 3 samples and 3 outcomes&gt;</td>\n",
       "      <td>['the', 'hunger', 'games']</td>\n",
       "      <td>['the', 'hunger', 'games']</td>\n",
       "    </tr>\n",
       "    <tr>\n",
       "      <th>40133</th>\n",
       "      <td>40133</td>\n",
       "      <td>8</td>\n",
       "      <td>marrying mr perfect</td>\n",
       "      <td>['marrying', 'mr', 'perfect']</td>\n",
       "      <td>&lt;FreqDist with 3 samples and 3 outcomes&gt;</td>\n",
       "      <td>['marrying', 'mr', 'perfect']</td>\n",
       "      <td>['marrying', 'mr', 'perfect']</td>\n",
       "    </tr>\n",
       "    <tr>\n",
       "      <th>40134</th>\n",
       "      <td>40134</td>\n",
       "      <td>8</td>\n",
       "      <td>bad boy for little girl</td>\n",
       "      <td>['bad', 'boy', 'for', 'little', 'girl']</td>\n",
       "      <td>&lt;FreqDist with 5 samples and 5 outcomes&gt;</td>\n",
       "      <td>['bad', 'boy', 'for', 'little', 'girl']</td>\n",
       "      <td>['bad', 'boy', 'for', 'little', 'girl']</td>\n",
       "    </tr>\n",
       "    <tr>\n",
       "      <th>40135</th>\n",
       "      <td>40135</td>\n",
       "      <td>3</td>\n",
       "      <td>tinjauan yuridis pelaksanaan program jaminan k...</td>\n",
       "      <td>['tinjauan', 'yuridis', 'pelaksanaan', 'progra...</td>\n",
       "      <td>&lt;FreqDist with 14 samples and 14 outcomes&gt;</td>\n",
       "      <td>['tinjauan', 'yuridis', 'pelaksanaan', 'progra...</td>\n",
       "      <td>['tinjau', 'yuridis', 'laksana', 'program', 'j...</td>\n",
       "    </tr>\n",
       "  </tbody>\n",
       "</table>\n",
       "<p>40136 rows × 7 columns</p>\n",
       "</div>"
      ],
      "text/plain": [
       "       Unnamed: 0  no                                              judul  \\\n",
       "0               0   3  usaha kerajinan gerabah untuk meningkatakan pe...   \n",
       "1               1   3  peranan industri gerabah keramik sebagai suatu...   \n",
       "2               2   3  industri kerajinan gerabah dan peranannya seba...   \n",
       "3               3   3  peranan industri kecil warangka keris dalam me...   \n",
       "4               4   3  bimbingan agama islam terhadap remaja dalam ke...   \n",
       "...           ...  ..                                                ...   \n",
       "40131       40131   8                                  angel in the rain   \n",
       "40132       40132   8                                   the hunger games   \n",
       "40133       40133   8                                marrying mr perfect   \n",
       "40134       40134   8                            bad boy for little girl   \n",
       "40135       40135   3  tinjauan yuridis pelaksanaan program jaminan k...   \n",
       "\n",
       "                                            judul_tokens  \\\n",
       "0      ['usaha', 'kerajinan', 'gerabah', 'untuk', 'me...   \n",
       "1      ['peranan', 'industri', 'gerabah', 'keramik', ...   \n",
       "2      ['industri', 'kerajinan', 'gerabah', 'dan', 'p...   \n",
       "3      ['peranan', 'industri', 'kecil', 'warangka', '...   \n",
       "4      ['bimbingan', 'agama', 'islam', 'terhadap', 'r...   \n",
       "...                                                  ...   \n",
       "40131                     ['angel', 'in', 'the', 'rain']   \n",
       "40132                         ['the', 'hunger', 'games']   \n",
       "40133                      ['marrying', 'mr', 'perfect']   \n",
       "40134            ['bad', 'boy', 'for', 'little', 'girl']   \n",
       "40135  ['tinjauan', 'yuridis', 'pelaksanaan', 'progra...   \n",
       "\n",
       "                               judul_tokens_fdist  \\\n",
       "0      <FreqDist with 19 samples and 19 outcomes>   \n",
       "1      <FreqDist with 18 samples and 18 outcomes>   \n",
       "2      <FreqDist with 17 samples and 17 outcomes>   \n",
       "3        <FreqDist with 9 samples and 9 outcomes>   \n",
       "4      <FreqDist with 14 samples and 14 outcomes>   \n",
       "...                                           ...   \n",
       "40131    <FreqDist with 4 samples and 4 outcomes>   \n",
       "40132    <FreqDist with 3 samples and 3 outcomes>   \n",
       "40133    <FreqDist with 3 samples and 3 outcomes>   \n",
       "40134    <FreqDist with 5 samples and 5 outcomes>   \n",
       "40135  <FreqDist with 14 samples and 14 outcomes>   \n",
       "\n",
       "                                        judul_tokens_WSW  \\\n",
       "0      ['usaha', 'kerajinan', 'gerabah', 'meningkatak...   \n",
       "1      ['peranan', 'industri', 'gerabah', 'keramik', ...   \n",
       "2      ['industri', 'kerajinan', 'gerabah', 'peranann...   \n",
       "3      ['peranan', 'industri', 'warangka', 'keris', '...   \n",
       "4      ['bimbingan', 'agama', 'islam', 'remaja', 'kel...   \n",
       "...                                                  ...   \n",
       "40131                     ['angel', 'in', 'the', 'rain']   \n",
       "40132                         ['the', 'hunger', 'games']   \n",
       "40133                      ['marrying', 'mr', 'perfect']   \n",
       "40134            ['bad', 'boy', 'for', 'little', 'girl']   \n",
       "40135  ['tinjauan', 'yuridis', 'pelaksanaan', 'progra...   \n",
       "\n",
       "                                    judul_tokens_stemmed  \n",
       "0      ['usaha', 'rajin', 'gerabah', 'meningkatakan',...  \n",
       "1      ['peran', 'industri', 'gerabah', 'keramik', 's...  \n",
       "2      ['industri', 'rajin', 'gerabah', 'peran', 'sum...  \n",
       "3      ['peran', 'industri', 'warangka', 'keris', 'ti...  \n",
       "4      ['bimbing', 'agama', 'islam', 'remaja', 'kelua...  \n",
       "...                                                  ...  \n",
       "40131                     ['angel', 'in', 'the', 'rain']  \n",
       "40132                         ['the', 'hunger', 'games']  \n",
       "40133                      ['marrying', 'mr', 'perfect']  \n",
       "40134            ['bad', 'boy', 'for', 'little', 'girl']  \n",
       "40135  ['tinjau', 'yuridis', 'laksana', 'program', 'j...  \n",
       "\n",
       "[40136 rows x 7 columns]"
      ]
     },
     "execution_count": 4,
     "metadata": {},
     "output_type": "execute_result"
    }
   ],
   "source": [
    "df_sentimen"
   ]
  },
  {
   "cell_type": "code",
   "execution_count": 5,
   "id": "ff60d9d1-0748-47ef-8f1c-352fe4242eca",
   "metadata": {},
   "outputs": [
    {
     "name": "stdout",
     "output_type": "stream",
     "text": [
      "\n",
      "Jumlah Judul Buku : \n",
      "0        ['usaha', 'rajin', 'gerabah', 'meningkatakan',...\n",
      "1        ['peran', 'industri', 'gerabah', 'keramik', 's...\n",
      "2        ['industri', 'rajin', 'gerabah', 'peran', 'sum...\n",
      "3        ['peran', 'industri', 'warangka', 'keris', 'ti...\n",
      "4        ['bimbing', 'agama', 'islam', 'remaja', 'kelua...\n",
      "                               ...                        \n",
      "40131                       ['angel', 'in', 'the', 'rain']\n",
      "40132                           ['the', 'hunger', 'games']\n",
      "40133                        ['marrying', 'mr', 'perfect']\n",
      "40134              ['bad', 'boy', 'for', 'little', 'girl']\n",
      "40135    ['tinjau', 'yuridis', 'laksana', 'program', 'j...\n",
      "Name: judul_tokens_stemmed, Length: 40136, dtype: object\n",
      "\n",
      "Jumlah klasifikasi Buku : \n",
      "6    8735\n",
      "3    8578\n",
      "8    7402\n",
      "2    4950\n",
      "7    2623\n",
      "1    2266\n",
      "5    1640\n",
      "0    1449\n",
      "9    1448\n",
      "4    1045\n",
      "Name: no, dtype: int64\n"
     ]
    }
   ],
   "source": [
    "x = df_sentimen['judul_tokens_stemmed']\n",
    "y = df_sentimen['no']\n",
    "print('\\nJumlah Judul Buku : ')\n",
    "print(x)\n",
    "print('\\nJumlah klasifikasi Buku : ')\n",
    "print (y.value_counts())"
   ]
  },
  {
   "cell_type": "code",
   "execution_count": 6,
   "id": "66395142-c4ac-4c1d-b632-185958b1d851",
   "metadata": {},
   "outputs": [
    {
     "data": {
      "text/plain": [
       "(40136, 7)"
      ]
     },
     "execution_count": 6,
     "metadata": {},
     "output_type": "execute_result"
    }
   ],
   "source": [
    "df_sentimen.shape"
   ]
  },
  {
   "cell_type": "code",
   "execution_count": 7,
   "id": "28fd1495-94ff-40f4-ba8d-b92f3784f2c1",
   "metadata": {},
   "outputs": [],
   "source": [
    "from sklearn.model_selection import train_test_split\n",
    "x_train, x_test, y_train, y_test = train_test_split(x, y, test_size=0.2, stratify=y , random_state = 42)"
   ]
  },
  {
   "cell_type": "code",
   "execution_count": 8,
   "id": "d84d2456-3b5d-4d2d-88f9-ad47a91e45d0",
   "metadata": {},
   "outputs": [
    {
     "data": {
      "text/plain": [
       "((32108,), (8028,), (32108,), (8028,))"
      ]
     },
     "execution_count": 8,
     "metadata": {},
     "output_type": "execute_result"
    }
   ],
   "source": [
    "x_train.shape, x_test.shape, y_train.shape, y_test.shape"
   ]
  },
  {
   "cell_type": "code",
   "execution_count": 9,
   "id": "88336931-4a7b-422c-ba0c-45fe1d308df7",
   "metadata": {},
   "outputs": [
    {
     "name": "stdout",
     "output_type": "stream",
     "text": [
      "29148                         ['bumbu', 'inti', 'masakan']\n",
      "15073    ['usaha', 'kreasi', 'unik', 'hantar', 'pengant...\n",
      "34028                                           ['pitung']\n",
      "2026                            ['imagined', 'comunities']\n",
      "29744                      ['cerita', 'rakyat', 'meksiko']\n",
      "                               ...                        \n",
      "35021              ['buku', 'jumbo', 'warna', 'aktivitas']\n",
      "35339                         ['masak', 'bareng', 'mamak']\n",
      "32739                             ['analisis', 'struktur']\n",
      "32096                            ['hidroponik', 'praktis']\n",
      "12556             ['shonen', 'magz', 'absolutely', 'cool']\n",
      "Name: judul_tokens_stemmed, Length: 32108, dtype: object\n",
      "36213                 ['buka', 'usaha', 'bengkel', 'mula']\n",
      "1021                  ['prinsip', 'dasar', 'ilmu', 'gizi']\n",
      "11667       ['buku', 'cerita', 'gambar', 'sailor', 'moon']\n",
      "36403    ['misteri', 'rumah', 'hantu', 'novel', 'anak',...\n",
      "2045                                    ['anak', 'remaja']\n",
      "                               ...                        \n",
      "20442    ['hubung', 'status', 'gizi', 'kembang', 'motor...\n",
      "24195    ['mao', 'marcuse', 'percik', 'filsafat', 'marx...\n",
      "26347    ['mumi', 'piramida', 'spinx', 'profesor', 'hir...\n",
      "7916                             ['bina', 'watak', 'anak']\n",
      "8991     ['pendekar', 'sakti', 'gento', 'guyon', 'kemel...\n",
      "Name: judul_tokens_stemmed, Length: 8028, dtype: object\n"
     ]
    }
   ],
   "source": [
    "print(x_train)\n",
    "print(x_test)"
   ]
  },
  {
   "cell_type": "code",
   "execution_count": 10,
   "id": "85657673-139f-4896-97c3-518070070fd7",
   "metadata": {},
   "outputs": [],
   "source": [
    "from sklearn.feature_extraction.text import TfidfVectorizer"
   ]
  },
  {
   "cell_type": "code",
   "execution_count": 11,
   "id": "b61d43fc-bd36-4229-8165-394e7ff5a6bf",
   "metadata": {},
   "outputs": [],
   "source": [
    "#tfidf\n",
    "vectorizer = TfidfVectorizer() \n",
    "x_train = vectorizer.fit_transform(x_train)\n",
    "x_test = vectorizer.transform(x_test)"
   ]
  },
  {
   "cell_type": "code",
   "execution_count": 12,
   "id": "107dba31-1d80-49a2-9277-c3970e89090d",
   "metadata": {},
   "outputs": [
    {
     "name": "stdout",
     "output_type": "stream",
     "text": [
      "  (0, 10205)\t0.4910083822090832\n",
      "  (0, 6960)\t0.6275238108491259\n",
      "  (0, 2575)\t0.6042554388814462\n",
      "  (1, 12692)\t0.47474401671846833\n",
      "  (1, 5981)\t0.5703183604337088\n",
      "  (1, 18247)\t0.4269022740891043\n",
      "  (1, 8890)\t0.37995949076029\n",
      "  (1, 18334)\t0.3503431462166104\n",
      "  (2, 13138)\t1.0\n",
      "  (3, 3203)\t0.7071067811865476\n",
      "  (3, 6627)\t0.7071067811865476\n",
      "  (4, 10409)\t0.7633228653345763\n",
      "  (4, 14092)\t0.48340241743349105\n",
      "  (4, 2899)\t0.42855607110023447\n",
      "  (5, 12788)\t0.8242969555007494\n",
      "  (5, 2514)\t0.5661576892988344\n",
      "  (6, 6545)\t0.6025554200638772\n",
      "  (6, 7514)\t0.45576561409963867\n",
      "  (6, 8428)\t0.5064088671048147\n",
      "  (6, 8618)\t0.41563773899110973\n",
      "  (7, 2197)\t0.711624907434542\n",
      "  (7, 10015)\t0.7025595996915706\n",
      "  (8, 6465)\t0.6618414539390276\n",
      "  (8, 11370)\t0.7496438419995683\n",
      "  (9, 43)\t0.8107850284168892\n",
      "  :\t:\n",
      "  (32101, 18739)\t0.24660082435226954\n",
      "  (32101, 3741)\t0.21081136786114915\n",
      "  (32101, 8292)\t0.2006699387780378\n",
      "  (32101, 1570)\t0.13158993398389127\n",
      "  (32101, 13891)\t0.20787222858313797\n",
      "  (32101, 5312)\t0.21348825463524376\n",
      "  (32102, 8338)\t0.6646924971908007\n",
      "  (32102, 13295)\t0.4305626858265009\n",
      "  (32102, 12869)\t0.455597296581862\n",
      "  (32102, 15291)\t0.40648586826533833\n",
      "  (32103, 7516)\t0.6894733230676692\n",
      "  (32103, 18627)\t0.44971267110632335\n",
      "  (32103, 392)\t0.4437193466304227\n",
      "  (32103, 2545)\t0.3542572393760108\n",
      "  (32104, 9989)\t0.6015328746112757\n",
      "  (32104, 1620)\t0.6015328746112757\n",
      "  (32104, 10204)\t0.5256580652133006\n",
      "  (32105, 16466)\t0.7978061785727193\n",
      "  (32105, 689)\t0.6029140083222436\n",
      "  (32106, 6202)\t0.8342531458020028\n",
      "  (32106, 13469)\t0.5513816180463964\n",
      "  (32107, 58)\t0.5040656090049214\n",
      "  (32107, 9867)\t0.5089980782750448\n",
      "  (32107, 15715)\t0.49141612858335865\n",
      "  (32107, 3265)\t0.4953271713715623\n"
     ]
    }
   ],
   "source": [
    " print(x_train)"
   ]
  },
  {
   "cell_type": "code",
   "execution_count": 13,
   "id": "a37ce4c0-049e-4ea6-8231-9eb64213d089",
   "metadata": {},
   "outputs": [
    {
     "name": "stdout",
     "output_type": "stream",
     "text": [
      "  (0, 18334)\t0.3948314557597223\n",
      "  (0, 11098)\t0.487790001633457\n",
      "  (0, 2539)\t0.4887996793008076\n",
      "  (0, 1870)\t0.6060065258431779\n",
      "  (1, 13603)\t0.6067149384141278\n",
      "  (1, 6613)\t0.450556149568608\n",
      "  (1, 5602)\t0.48466332950535856\n",
      "  (1, 3542)\t0.4404515826102018\n",
      "  (2, 14891)\t0.6075947931787542\n",
      "  (2, 10948)\t0.5654398943369109\n",
      "  (2, 5312)\t0.3273718556561879\n",
      "  (2, 2899)\t0.31745767166838956\n",
      "  (2, 2545)\t0.3211768796433501\n",
      "  (3, 14777)\t0.3593393357286064\n",
      "  (3, 11675)\t0.4874988192978371\n",
      "  (3, 10808)\t0.41708491104645823\n",
      "  (3, 7061)\t0.33734303327708604\n",
      "  (3, 5982)\t0.5052463454265885\n",
      "  (3, 678)\t0.3003100535966084\n",
      "  (4, 14365)\t0.7928976433744749\n",
      "  (4, 678)\t0.6093548450051121\n",
      "  (5, 15302)\t0.7369336275947748\n",
      "  (5, 8163)\t0.6759651089516424\n",
      "  (6, 2804)\t0.6666826684596323\n",
      "  (6, 1433)\t0.7453416797520075\n",
      "  :\t:\n",
      "  (8023, 8292)\t0.23237596710195232\n",
      "  (8023, 8163)\t0.2404189646138902\n",
      "  (8023, 7912)\t0.2610080933975712\n",
      "  (8023, 7898)\t0.41675188769051663\n",
      "  (8023, 6406)\t0.19776755826844494\n",
      "  (8023, 5602)\t0.27692737702911474\n",
      "  (8023, 3741)\t0.2441197509757818\n",
      "  (8023, 1570)\t0.15238126027542012\n",
      "  (8023, 1472)\t0.27781060775771793\n",
      "  (8024, 12826)\t0.5981823232294905\n",
      "  (8024, 10193)\t0.6697721147128188\n",
      "  (8024, 5011)\t0.439980934278848\n",
      "  (8025, 13653)\t0.5339860475353406\n",
      "  (8025, 11128)\t0.5253983399536467\n",
      "  (8025, 6275)\t0.5951895471975522\n",
      "  (8025, 2899)\t0.2908004269568907\n",
      "  (8026, 18648)\t0.7623343158799964\n",
      "  (8026, 2115)\t0.5411574187732566\n",
      "  (8026, 678)\t0.35495779881338557\n",
      "  (8027, 14918)\t0.3604126256228763\n",
      "  (8027, 12669)\t0.3504276609573254\n",
      "  (8027, 8172)\t0.43930535949721883\n",
      "  (8027, 6487)\t0.3705161510809828\n",
      "  (8027, 5861)\t0.4566353997626311\n",
      "  (8027, 5496)\t0.4566353997626311\n"
     ]
    }
   ],
   "source": [
    " print(x_test)"
   ]
  },
  {
   "cell_type": "code",
   "execution_count": 14,
   "id": "46d05838-1b08-48bd-a423-980d4e6c393c",
   "metadata": {},
   "outputs": [
    {
     "name": "stdout",
     "output_type": "stream",
     "text": [
      "[6 6 3 ... 8 3 8]\n"
     ]
    }
   ],
   "source": [
    "# Naive Bayes\n",
    "from sklearn.naive_bayes import MultinomialNB\n",
    "model = MultinomialNB().fit(\n",
    "    x_train, # data training 80%\n",
    "    y_train\n",
    ")\n",
    "\n",
    "y_pred = model.predict(\n",
    "    x_test # data uji 20%\n",
    ")\n",
    "print(y_pred)"
   ]
  },
  {
   "cell_type": "code",
   "execution_count": 15,
   "id": "e3192673-55bf-439f-96ad-ed4a9260a5bb",
   "metadata": {},
   "outputs": [],
   "source": [
    "# pip install seaborn"
   ]
  },
  {
   "cell_type": "code",
   "execution_count": 16,
   "id": "d722f508-754e-470e-8664-afe506307829",
   "metadata": {},
   "outputs": [],
   "source": [
    "import seaborn as sns\n",
    "import matplotlib.pyplot as plt"
   ]
  },
  {
   "cell_type": "code",
   "execution_count": 17,
   "id": "e376e2c3-261a-4ff4-bc99-506d29a1345e",
   "metadata": {},
   "outputs": [
    {
     "name": "stdout",
     "output_type": "stream",
     "text": [
      "\n",
      "================= confusion matrix ===================== \n"
     ]
    },
    {
     "data": {
      "image/png": "[encoded data removed]",
      "text/plain": [
       "<Figure size 576x360 with 2 Axes>"
      ]
     },
     "metadata": {
      "needs_background": "light"
     },
     "output_type": "display_data"
    },
    {
     "name": "stdout",
     "output_type": "stream",
     "text": [
      "\n",
      "=========================================== \n",
      "accuracy score hasil prediksi adalah: \n",
      "60.76233183856502\n",
      "precision score hasil prediksi adalah: \n",
      "60.76233183856502\n",
      "recall score hasil prediksi adalah: \n",
      "60.76233183856502\n",
      "\n",
      "============================================================================= \n",
      "accuracy nb adalah:  0.6076233183856502\n",
      "              precision    recall  f1-score   support\n",
      "\n",
      "           0       0.89      0.16      0.27       290\n",
      "           1       0.85      0.12      0.21       453\n",
      "           2       0.76      0.72      0.74       990\n",
      "           3       0.51      0.73      0.60      1716\n",
      "           4       0.97      0.28      0.43       209\n",
      "           5       0.68      0.06      0.11       328\n",
      "           6       0.63      0.85      0.72      1747\n",
      "           7       0.91      0.23      0.37       525\n",
      "           8       0.58      0.76      0.66      1480\n",
      "           9       0.79      0.04      0.07       290\n",
      "\n",
      "    accuracy                           0.61      8028\n",
      "   macro avg       0.76      0.39      0.42      8028\n",
      "weighted avg       0.67      0.61      0.56      8028\n",
      "\n",
      "\n",
      "============================================================================= \n"
     ]
    }
   ],
   "source": [
    "from sklearn.metrics import f1_score, recall_score, precision_score, confusion_matrix, accuracy_score, classification_report\n",
    "import matplotlib.pyplot as plt\n",
    "\n",
    "from sklearn.metrics import confusion_matrix\n",
    "# cm = confusion_matrix(y_test, y_pred)\n",
    "print(\"\\n================= confusion matrix ===================== \")\n",
    "# print(cm)\n",
    "f, ax = plt.subplots(figsize=(8,5))\n",
    "sns.heatmap(confusion_matrix(y_test, y_pred), annot=True, fmt=\".0f\", ax=ax)\n",
    "plt.xlabel(\"y_head\")\n",
    "plt.ylabel(\"y_true\")\n",
    "plt.show()\n",
    "print(\"\\n=========================================== \")\n",
    "# accuracy score\n",
    "print(\"accuracy score hasil prediksi adalah: \")\n",
    "print(accuracy_score(y_test, y_pred) * 100)\n",
    "\n",
    "# precision score\n",
    "print(\"precision score hasil prediksi adalah: \")\n",
    "print(precision_score(y_test, y_pred, average='micro') * 100)\n",
    "\n",
    "# recall score\n",
    "print(\"recall score hasil prediksi adalah: \")\n",
    "print(recall_score(y_test, y_pred, average='micro') * 100)\n",
    "\n",
    "print(\"\\n============================================================================= \")\n",
    "print(\"accuracy nb adalah: \", accuracy_score(y_test, y_pred))\n",
    "print(classification_report(y_test, y_pred))\n",
    "print(\"\\n============================================================================= \")"
   ]
  },
  {
   "cell_type": "code",
   "execution_count": 140,
   "id": "19f73a16-d651-42f6-9528-24a217fe6bb8",
   "metadata": {},
   "outputs": [],
   "source": [
    "#tes uji data baru\n",
    "judul = [\"matematika\"]\n",
    "judul_asli = judul\n",
    "#merubah ke bentuk number agar bisa di baca algoritma atau ML\n",
    "judul = vectorizer.transform(judul)"
   ]
  },
  {
   "cell_type": "code",
   "execution_count": 141,
   "id": "283c4258-f013-494f-8db6-6e663f829698",
   "metadata": {},
   "outputs": [],
   "source": [
    "prediksi1 =model.predict(judul)"
   ]
  },
  {
   "cell_type": "code",
   "execution_count": 142,
   "id": "93adf9a7-cf8c-4492-b6d9-66a14d57212d",
   "metadata": {},
   "outputs": [
    {
     "name": "stdout",
     "output_type": "stream",
     "text": [
      "['matematika'] Sosial\n"
     ]
    }
   ],
   "source": [
    "if prediksi1 == 0:\n",
    "    print(judul_asli, \"Umum\")\n",
    "if prediksi1 == 1:\n",
    "    print(judul_asli, \"Filsafat dan Psikologi\")   \n",
    "if prediksi1 == 2:\n",
    "    print(judul_asli, \"Agama\")\n",
    "if prediksi1 == 3:\n",
    "    print(judul_asli, \"Sosial\")\n",
    "if prediksi1 == 4:\n",
    "    print(judul_asli, \"Bahasa\")\n",
    "if prediksi1 == 5:\n",
    "    print(judul_asli, \"Sains dan Matematika\")\n",
    "if prediksi1 == 6:\n",
    "    print(judul_asli, \"Teknologi\")\n",
    "if prediksi1 == 7:\n",
    "    print(judul_asli, \"Seni dan Rekreasi\")\n",
    "if prediksi1 == 8:\n",
    "    print(judul_asli, \"Literartur dan Sastra\")\n",
    "if prediksi1 == 9:\n",
    "    print(judul_asli, \"Sejarah dan Geografi\")"
   ]
  },
  {
   "cell_type": "code",
   "execution_count": null,
   "id": "3b91c6e2-84be-4ace-bf22-ff4203387cb0",
   "metadata": {},
   "outputs": [],
   "source": []
  }
 ],
 "metadata": {
  "kernelspec": {
   "display_name": "Python 3 (ipykernel)",
   "language": "python",
   "name": "python3"
  },
  "language_info": {
   "codemirror_mode": {
    "name": "ipython",
    "version": 3
   },
   "file_extension": ".py",
   "mimetype": "text/x-python",
   "name": "python",
   "nbconvert_exporter": "python",
   "pygments_lexer": "ipython3",
   "version": "3.9.7"
  }
 },
 "nbformat": 4,
 "nbformat_minor": 5
}
